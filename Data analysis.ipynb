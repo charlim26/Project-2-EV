{
 "cells": [
  {
   "cell_type": "code",
   "execution_count": 39,
   "metadata": {},
   "outputs": [],
   "source": [
    "# Dependencies and Setup\n",
    "\n",
    "import matplotlib.pyplot as plt\n",
    "import pandas as pd\n",
    "import scipy.stats as st\n",
    "import numpy as np\n",
    "from scipy.stats import sem, linregress\n",
    "\n",
    "# Study data files\n",
    "vehicles_data_path = \"Electric_Vehicle_Population_Data (nn edits).csv\"\n",
    "\n",
    "# Read CSV file\n",
    "df = pd.read_csv(vehicles_data_path)"
   ]
  },
  {
   "cell_type": "code",
   "execution_count": 40,
   "metadata": {},
   "outputs": [
    {
     "data": {
      "text/html": [
       "<div>\n",
       "<style scoped>\n",
       "    .dataframe tbody tr th:only-of-type {\n",
       "        vertical-align: middle;\n",
       "    }\n",
       "\n",
       "    .dataframe tbody tr th {\n",
       "        vertical-align: top;\n",
       "    }\n",
       "\n",
       "    .dataframe thead th {\n",
       "        text-align: right;\n",
       "    }\n",
       "</style>\n",
       "<table border=\"1\" class=\"dataframe\">\n",
       "  <thead>\n",
       "    <tr style=\"text-align: right;\">\n",
       "      <th></th>\n",
       "      <th>make</th>\n",
       "      <th>Tesla</th>\n",
       "      <th>model</th>\n",
       "      <th>model_year</th>\n",
       "      <th>model_year_cat</th>\n",
       "      <th>city</th>\n",
       "      <th>states</th>\n",
       "      <th>zip</th>\n",
       "      <th>dol_vehicle_id</th>\n",
       "      <th>Electric_Range</th>\n",
       "      <th>Electric_Vehicle_Type</th>\n",
       "      <th>Vehicle_Type</th>\n",
       "      <th>Vehicle_Location</th>\n",
       "      <th>Base_MSRP</th>\n",
       "    </tr>\n",
       "  </thead>\n",
       "  <tbody>\n",
       "    <tr>\n",
       "      <th>0</th>\n",
       "      <td>Dodge</td>\n",
       "      <td>0</td>\n",
       "      <td>Caravan</td>\n",
       "      <td>1993</td>\n",
       "      <td>0</td>\n",
       "      <td>TUMWATER</td>\n",
       "      <td>WA</td>\n",
       "      <td>98501</td>\n",
       "      <td>474727697</td>\n",
       "      <td>80</td>\n",
       "      <td>Battery Electric Vehicle (BEV)</td>\n",
       "      <td>0</td>\n",
       "      <td>POINT (-122.87404199999999 46.998873)</td>\n",
       "      <td>0</td>\n",
       "    </tr>\n",
       "    <tr>\n",
       "      <th>1</th>\n",
       "      <td>Chevrolet</td>\n",
       "      <td>0</td>\n",
       "      <td>S-10 Pickup</td>\n",
       "      <td>1997</td>\n",
       "      <td>0</td>\n",
       "      <td>SEATTLE</td>\n",
       "      <td>WA</td>\n",
       "      <td>98107</td>\n",
       "      <td>241578137</td>\n",
       "      <td>39</td>\n",
       "      <td>Battery Electric Vehicle (BEV)</td>\n",
       "      <td>0</td>\n",
       "      <td>POINT (-122.375438 47.667804)</td>\n",
       "      <td>0</td>\n",
       "    </tr>\n",
       "    <tr>\n",
       "      <th>2</th>\n",
       "      <td>Ford</td>\n",
       "      <td>0</td>\n",
       "      <td>Ranger</td>\n",
       "      <td>1998</td>\n",
       "      <td>0</td>\n",
       "      <td>SEQUIM</td>\n",
       "      <td>WA</td>\n",
       "      <td>98382</td>\n",
       "      <td>114654081</td>\n",
       "      <td>58</td>\n",
       "      <td>Battery Electric Vehicle (BEV)</td>\n",
       "      <td>0</td>\n",
       "      <td>POINT (-123.092863 48.056267)</td>\n",
       "      <td>0</td>\n",
       "    </tr>\n",
       "    <tr>\n",
       "      <th>3</th>\n",
       "      <td>Ford</td>\n",
       "      <td>0</td>\n",
       "      <td>Ranger</td>\n",
       "      <td>1999</td>\n",
       "      <td>0</td>\n",
       "      <td>MOUNT VERNON</td>\n",
       "      <td>WA</td>\n",
       "      <td>98274</td>\n",
       "      <td>155686436</td>\n",
       "      <td>74</td>\n",
       "      <td>Battery Electric Vehicle (BEV)</td>\n",
       "      <td>0</td>\n",
       "      <td>POINT (-122.250701 48.368138)</td>\n",
       "      <td>0</td>\n",
       "    </tr>\n",
       "    <tr>\n",
       "      <th>4</th>\n",
       "      <td>Ford</td>\n",
       "      <td>0</td>\n",
       "      <td>Ranger</td>\n",
       "      <td>1999</td>\n",
       "      <td>0</td>\n",
       "      <td>DEMING</td>\n",
       "      <td>WA</td>\n",
       "      <td>98244</td>\n",
       "      <td>194395092</td>\n",
       "      <td>74</td>\n",
       "      <td>Battery Electric Vehicle (BEV)</td>\n",
       "      <td>0</td>\n",
       "      <td>POINT (-122.08163999999998 48.837168)</td>\n",
       "      <td>0</td>\n",
       "    </tr>\n",
       "  </tbody>\n",
       "</table>\n",
       "</div>"
      ],
      "text/plain": [
       "        make  Tesla        model  model_year  model_year_cat          city  \\\n",
       "0      Dodge      0      Caravan        1993               0      TUMWATER   \n",
       "1  Chevrolet      0  S-10 Pickup        1997               0       SEATTLE   \n",
       "2       Ford      0       Ranger        1998               0        SEQUIM   \n",
       "3       Ford      0       Ranger        1999               0  MOUNT VERNON   \n",
       "4       Ford      0       Ranger        1999               0        DEMING   \n",
       "\n",
       "  states    zip  dol_vehicle_id  Electric_Range  \\\n",
       "0     WA  98501       474727697              80   \n",
       "1     WA  98107       241578137              39   \n",
       "2     WA  98382       114654081              58   \n",
       "3     WA  98274       155686436              74   \n",
       "4     WA  98244       194395092              74   \n",
       "\n",
       "            Electric_Vehicle_Type  Vehicle_Type  \\\n",
       "0  Battery Electric Vehicle (BEV)             0   \n",
       "1  Battery Electric Vehicle (BEV)             0   \n",
       "2  Battery Electric Vehicle (BEV)             0   \n",
       "3  Battery Electric Vehicle (BEV)             0   \n",
       "4  Battery Electric Vehicle (BEV)             0   \n",
       "\n",
       "                        Vehicle_Location  Base_MSRP  \n",
       "0  POINT (-122.87404199999999 46.998873)          0  \n",
       "1          POINT (-122.375438 47.667804)          0  \n",
       "2          POINT (-123.092863 48.056267)          0  \n",
       "3          POINT (-122.250701 48.368138)          0  \n",
       "4  POINT (-122.08163999999998 48.837168)          0  "
      ]
     },
     "execution_count": 40,
     "metadata": {},
     "output_type": "execute_result"
    }
   ],
   "source": [
    "df.head()"
   ]
  },
  {
   "cell_type": "code",
   "execution_count": 41,
   "metadata": {},
   "outputs": [],
   "source": [
    "new_df = df.drop(df[df['Base_MSRP'] > 800000].index)"
   ]
  },
  {
   "cell_type": "code",
   "execution_count": 50,
   "metadata": {},
   "outputs": [
    {
     "data": {
      "text/plain": [
       "Text(0, 0.5, 'Base MSRP (US Dollars)')"
      ]
     },
     "execution_count": 50,
     "metadata": {},
     "output_type": "execute_result"
    },
    {
     "data": {
      "image/png": "[encoded data removed]",
      "text/plain": [
       "<Figure size 432x288 with 1 Axes>"
      ]
     },
     "metadata": {
      "needs_background": "light"
     },
     "output_type": "display_data"
    }
   ],
   "source": [
    "new_df.boxplot(by ='Tesla', column =['Base_MSRP'], grid = False)\n",
    "plt.ylabel('Base MSRP (US Dollars)')"
   ]
  },
  {
   "cell_type": "code",
   "execution_count": null,
   "metadata": {},
   "outputs": [],
   "source": []
  }
 ],
 "metadata": {
  "kernelspec": {
   "display_name": "Python 3",
   "language": "python",
   "name": "python3"
  },
  "language_info": {
   "codemirror_mode": {
    "name": "ipython",
    "version": 3
   },
   "file_extension": ".py",
   "mimetype": "text/x-python",
   "name": "python",
   "nbconvert_exporter": "python",
   "pygments_lexer": "ipython3",
   "version": "3.7.6"
  }
 },
 "nbformat": 4,
 "nbformat_minor": 4
}
